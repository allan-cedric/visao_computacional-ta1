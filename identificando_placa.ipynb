{
 "cells": [
  {
   "cell_type": "markdown",
   "id": "805a9faa-bc1c-4107-9430-5ce5e1742d64",
   "metadata": {},
   "source": [
    "## Melhorando imagens de placas de carro\n",
    "### Disciplina de Visão Computacional e Percepção - CI1026"
   ]
  },
  {
   "cell_type": "code",
   "execution_count": 80,
   "id": "a4b976c5-4a54-49c3-8990-f2d83ab6876a",
   "metadata": {
    "tags": []
   },
   "outputs": [],
   "source": [
    "import cv2\n",
    "import numpy as np"
   ]
  },
  {
   "cell_type": "code",
   "execution_count": 81,
   "id": "3a0e1ea0-1335-4c8c-9434-a4eb393ef4fb",
   "metadata": {
    "tags": []
   },
   "outputs": [],
   "source": [
    "img = cv2.imread(\"placa.jpg\", cv2.IMREAD_GRAYSCALE)"
   ]
  },
  {
   "cell_type": "markdown",
   "id": "1185d500-2139-4053-8249-516ef5fa1a18",
   "metadata": {},
   "source": [
    "![placa](placa.jpg \"Placa\")"
   ]
  },
  {
   "cell_type": "code",
   "execution_count": 82,
   "id": "9e402c95-0ae1-43a5-ad2e-3efe53d48e35",
   "metadata": {
    "tags": []
   },
   "outputs": [
    {
     "data": {
      "text/plain": [
       "True"
      ]
     },
     "execution_count": 82,
     "metadata": {},
     "output_type": "execute_result"
    }
   ],
   "source": [
    "img_eqhist = cv2.equalizeHist(img)\n",
    "cv2.imwrite(\"placa_eqhist.jpg\", img_eqhist)"
   ]
  },
  {
   "cell_type": "markdown",
   "id": "72c4a800-334a-44f3-a940-8882772812b7",
   "metadata": {
    "tags": []
   },
   "source": [
    "![placa_eqhist](placa_eqhist.jpg \"Placa 1\")"
   ]
  },
  {
   "cell_type": "code",
   "execution_count": 83,
   "id": "ab100247-cdcc-4025-9aa9-f330eece8312",
   "metadata": {},
   "outputs": [
    {
     "data": {
      "text/plain": [
       "True"
      ]
     },
     "execution_count": 83,
     "metadata": {},
     "output_type": "execute_result"
    }
   ],
   "source": [
    "kernel = np.array([[0, -1, 0],\n",
    "                   [-1, 5,-1],\n",
    "                   [0, -1, 0]])\n",
    "image_sharp = cv2.filter2D(src=img_eqhist, ddepth=-1, kernel=kernel)\n",
    "cv2.imwrite(\"placa_sharp.jpg\", image_sharp)"
   ]
  },
  {
   "cell_type": "markdown",
   "id": "da4502fe-d4a9-4eae-a789-9224c6177948",
   "metadata": {},
   "source": [
    "![placa_sharp](placa_sharp.jpg)"
   ]
  },
  {
   "cell_type": "code",
   "execution_count": 84,
   "id": "0707e26e-c654-4e97-a633-02ffe7f4053c",
   "metadata": {},
   "outputs": [
    {
     "data": {
      "text/plain": [
       "True"
      ]
     },
     "execution_count": 84,
     "metadata": {},
     "output_type": "execute_result"
    }
   ],
   "source": [
    "img_gblur = cv2.GaussianBlur(image_sharp, (3, 3), 0)\n",
    "cv2.imwrite(\"placa_gblur.jpg\", img_gblur)"
   ]
  },
  {
   "cell_type": "markdown",
   "id": "6df67fd7-cefc-44bf-b81b-d81b6fd3991e",
   "metadata": {},
   "source": [
    "![placa_gblur](placa_gblur.jpg)"
   ]
  },
  {
   "cell_type": "code",
   "execution_count": 85,
   "id": "e93318df-54bb-4e97-a4dc-9e3185464e3d",
   "metadata": {},
   "outputs": [
    {
     "data": {
      "text/plain": [
       "True"
      ]
     },
     "execution_count": 85,
     "metadata": {},
     "output_type": "execute_result"
    }
   ],
   "source": [
    "ret,thresh1 = cv2.threshold(img_gblur,150,255,cv2.THRESH_BINARY)\n",
    "cv2.imwrite(\"placa_thresh1.jpg\", thresh1)"
   ]
  },
  {
   "cell_type": "markdown",
   "id": "8e5b761a-1c40-41e0-ac2b-82bd93ab99f9",
   "metadata": {},
   "source": [
    "![placa_thresh1](placa_thresh1.jpg)"
   ]
  }
 ],
 "metadata": {
  "kernelspec": {
   "display_name": "Python 3 (ipykernel)",
   "language": "python",
   "name": "python3"
  },
  "language_info": {
   "codemirror_mode": {
    "name": "ipython",
    "version": 3
   },
   "file_extension": ".py",
   "mimetype": "text/x-python",
   "name": "python",
   "nbconvert_exporter": "python",
   "pygments_lexer": "ipython3",
   "version": "3.10.6"
  }
 },
 "nbformat": 4,
 "nbformat_minor": 5
}
